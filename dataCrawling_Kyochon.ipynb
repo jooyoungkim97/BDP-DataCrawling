{
 "cells": [
  {
   "cell_type": "code",
   "execution_count": 1,
   "id": "cea9842e",
   "metadata": {},
   "outputs": [],
   "source": [
    "# 필요 라이브러리 import\n",
    "from bs4 import BeautifulSoup\n",
    "import urllib.request\n",
    "import pandas as pd"
   ]
  },
  {
   "cell_type": "code",
   "execution_count": 2,
   "id": "b3365160",
   "metadata": {},
   "outputs": [],
   "source": [
    "page_dict = {1:25,2:16,3:8,4:10,5:5,6:5,7:5,8:16,9:44,10:18,11:15,12:17,13:15,14:22,15:24,16:22,17:2}"
   ]
  },
  {
   "cell_type": "code",
   "execution_count": 3,
   "id": "664f402b",
   "metadata": {},
   "outputs": [],
   "source": [
    "result = []"
   ]
  },
  {
   "cell_type": "code",
   "execution_count": 4,
   "id": "88d23bd2",
   "metadata": {},
   "outputs": [],
   "source": [
    "for page_sido1 in page_dict:\n",
    "    for page_sido2 in range(1,page_dict[page_sido1]+1):\n",
    "        Kyochon_url = 'https://www.kyochon.com/shop/domestic.asp?sido1=%d&sido2=%d&txtsearch=' %(page_sido1, page_sido2)\n",
    "        #print(Kyochon_url)\n",
    "        html = urllib.request.urlopen(Kyochon_url)\n",
    "        soupKyochon = BeautifulSoup(html, 'html.parser')\n",
    "        tag_ul = soupKyochon.find('ul', attrs={'class':'list'})\n",
    "        for store in tag_ul.find_all('li'):\n",
    "            if len(store) <= 1:\n",
    "                break\n",
    "            store_name = store.find('strong').string\n",
    "            store_em_text = store.find('em').text\n",
    "            store_em_list = store_em_text.split('(')[0].split()\n",
    "            store_sido = store_em_list[0]\n",
    "            store_gungu = store_em_list[1]\n",
    "            store_address = ' '.join(store_em_list)\n",
    "            result.append([store_name]+[store_sido]+[store_gungu]+[store_address])"
   ]
  },
  {
   "cell_type": "code",
   "execution_count": 5,
   "id": "64f4ec4f",
   "metadata": {},
   "outputs": [
    {
     "data": {
      "text/plain": [
       "1370"
      ]
     },
     "execution_count": 5,
     "metadata": {},
     "output_type": "execute_result"
    }
   ],
   "source": [
    "len(result) # 국내 모든 교촌 치킨 매장의 수"
   ]
  },
  {
   "cell_type": "code",
   "execution_count": 6,
   "id": "ce52175d",
   "metadata": {},
   "outputs": [
    {
     "data": {
      "text/plain": [
       "['강남역', '서울', '강남구', '서울 강남구 역삼동 619-28']"
      ]
     },
     "execution_count": 6,
     "metadata": {},
     "output_type": "execute_result"
    }
   ],
   "source": [
    "result[0]"
   ]
  },
  {
   "cell_type": "code",
   "execution_count": 7,
   "id": "463a1d82",
   "metadata": {},
   "outputs": [
    {
     "data": {
      "text/plain": [
       "['함덕', '제주', '제주시', '제주 제주시 조천읍 함덕리 1004-41']"
      ]
     },
     "execution_count": 7,
     "metadata": {},
     "output_type": "execute_result"
    }
   ],
   "source": [
    "result[1369]"
   ]
  },
  {
   "cell_type": "code",
   "execution_count": 8,
   "id": "fdbe587c",
   "metadata": {},
   "outputs": [],
   "source": [
    "Kyochon_tbl = pd.DataFrame(result, columns = ('store', 'sido','gungu','store_address'))"
   ]
  },
  {
   "cell_type": "code",
   "execution_count": 9,
   "id": "e5e9c43f",
   "metadata": {},
   "outputs": [],
   "source": [
    "Kyochon_tbl.to_csv(\"C:/Users/김주영/Desktop/2023-1/빅데이터처리/dataCrawling/Kyochon.csv\", encoding = 'cp949', mode = 'w', index=True)"
   ]
  }
 ],
 "metadata": {
  "kernelspec": {
   "display_name": "Python 3 (ipykernel)",
   "language": "python",
   "name": "python3"
  },
  "language_info": {
   "codemirror_mode": {
    "name": "ipython",
    "version": 3
   },
   "file_extension": ".py",
   "mimetype": "text/x-python",
   "name": "python",
   "nbconvert_exporter": "python",
   "pygments_lexer": "ipython3",
   "version": "3.9.7"
  }
 },
 "nbformat": 4,
 "nbformat_minor": 5
}
